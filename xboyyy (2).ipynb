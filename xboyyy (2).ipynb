{
 "cells": [
  {
   "cell_type": "code",
   "execution_count": null,
   "id": "74766964",
   "metadata": {},
   "outputs": [],
   "source": [
    "from telegram import Update\n",
    "from telegram.ext import Updater, CommandHandler, MessageHandler, Filters, CallbackContext\n",
    "import requests\n",
    "from bs4 import BeautifulSoup\n",
    "from translate import Translator\n",
    "import re"
   ]
  },
  {
   "cell_type": "code",
   "execution_count": null,
   "id": "0d4a98a9",
   "metadata": {
    "lines_to_next_cell": 1
   },
   "outputs": [],
   "source": [
    "# Replace 'YOUR_TOKEN' with your actual Bot token received from BotFather\n",
    "TOKEN = '7076261734:AAH4-Xs0v2IaF87lD73W3PyuMXTaCgX_VjU'"
   ]
  },
  {
   "cell_type": "code",
   "execution_count": null,
   "id": "6c461206",
   "metadata": {
    "lines_to_next_cell": 1
   },
   "outputs": [],
   "source": [
    "def start(update: Update, context: CallbackContext) -> None:\n",
    "    update.message.reply_text('أرسل لي رابط منتج من على AliExpress وسأحصل لك على العنوان بالعربية (للجزء بعد العلامة \"|\") والصورة الرئيسية.')"
   ]
  },
  {
   "cell_type": "code",
   "execution_count": null,
   "id": "52d175f5",
   "metadata": {
    "lines_to_next_cell": 1
   },
   "outputs": [],
   "source": [
    "def get_product_details(url: str) -> dict:\n",
    "    try:\n",
    "        response = requests.get(url)\n",
    "        if response.status_code == 200:\n",
    "            soup = BeautifulSoup(response.content, 'html.parser')\n",
    "            # Extract title\n",
    "            title_tag = soup.find('meta', property='og:title')\n",
    "            title = title_tag.get('content') if title_tag else \"لم يتم العثور على عنوان المنتج.\"\n",
    "\n",
    "            # Replace \"MAD\" with \"ثمن المنتج بالدرهم\"\n",
    "            title = re.sub(r'\\bMAD', 'ثمن المنتج بالدرهم', title)\n",
    "\n",
    "            # Split title at \"|\"\n",
    "            title_parts = title.split(\"|\")\n",
    "            title_before_pipe = title_parts[0].strip()\n",
    "\n",
    "            # Extract the price, discount, and remaining title\n",
    "            price_discount_title = title_parts[1].strip()\n",
    "            price_discount_title_parts = re.split(r'(\\d+%OFF)', price_discount_title)\n",
    "            price = price_discount_title_parts[0].strip()\n",
    "          discount = price_discount_title_parts[1].strip()\n",
    "            remaining_title = title_parts[2].strip()\n",
    "\n",
    "            # Reconstruct the title with the desired format\n",
    "            new_title = f\"{price}\\n{discount} | {remaining_title}\"\n",
    "\n",
    "            # Translate the part after \"|\" to Arabic\n",
    "            translator = Translator(to_lang=\"ar\")\n",
    "            new_title_arabic = translator.translate(new_title.strip()) if new_title else \"\"\n",
    "\n",
    "            # Extract image\n",
    "            image_tag = soup.find('meta', property='og:image')\n",
    "            image_url = image_tag.get('content') if image_tag else \"لم يتم العثور على الصورة.\"\n",
    "            return {\n",
    "                'title_before_pipe': title_before_pipe,\n",
    "                'new_title_arabic': new_title_arabic,\n",
    "                'image_url': image_url,\n",
    "                'url': url\n",
    "            }\n",
    "        else:\n",
    "            return {\n",
    "                \"title_before_pipe\": \"\",\n",
    "                \"new_title_arabic\": \"فشل في استرداد الصفحة. الرجاء التحقق من الرابط.\",\n",
    "                \"image_url\": \"\",\n",
    "                'url': url\n",
    "            }\n",
    "    except Exception as e:\n",
    "        return {\n",
    "            'title_before_pipe': \"\",\n",
    "            'new_title_arabic': f'حدث خطأ: {e}',\n",
    "            'image_url': '',\n",
    "            'url': url\n",
    "        }"
   ]
  },
  {
   "cell_type": "code",
   "execution_count": null,
   "id": "a842f38e",
   "metadata": {
    "lines_to_next_cell": 1
   },
   "outputs": [],
   "source": [
    "def handle_message(update: Update, context: CallbackContext) -> None:\n",
    "    text = update.message.text\n",
    "    if 'aliexpress.com' in text and re.match(r'https?://\\S+', text):\n",
    "        details = get_product_details(text)\n",
    "        caption = f'{details[\"title_before_pipe\"]}\\n'\n",
    "\n",
    "        if details[\"new_title_arabic\"]:\n",
    "            caption += details[\"new_title_arabic\"]\n",
    "\n",
    "        caption += f'\\nرابط الشراء: {details[\"url\"]}'\n",
    "\n",
    "        if details[\"image_url\"]:\n",
    "            update.message.reply_photo(photo=details[\"image_url\"], caption=caption)\n",
    "        else:\n",
    "            update.message.reply_text(caption)\n",
    "    else:\n",
    "        update.message.reply_text('الرجاء إرسال رابط صحيح لمنتج على AliExpress.')"
   ]
  },
  {
   "cell_type": "code",
   "execution_count": null,
   "id": "f3810fa3",
   "metadata": {
    "lines_to_next_cell": 1
   },
   "outputs": [],
   "source": [
    "def main() -> None:\n",
    "    updater = Updater(TOKEN, use_context=True)\n",
    "    dp = updater.dispatcher\n",
    "    dp.add_handler(CommandHandler(\"start\", start))\n",
    "    dp.add_handler(MessageHandler(Filters.text & ~Filters.command, handle_message))\n",
    "    updater.start_polling()\n",
    "    updater.idle()"
   ]
  },
  {
   "cell_type": "code",
   "execution_count": null,
   "id": "2ee11c18",
   "metadata": {},
   "outputs": [],
   "source": [
    "if __name__ == '__main__':\n",
    "    main()"
   ]
  }
 ],
 "metadata": {
  "jupytext": {
   "cell_metadata_filter": "-all",
   "main_language": "python",
   "notebook_metadata_filter": "-all"
  },
  "kernelspec": {
   "display_name": "Python 3",
   "language": "python",
   "name": "python3"
  },
  "language_info": {
   "name": "python",
   "version": "3.10.13"
  }
 },
 "nbformat": 4,
 "nbformat_minor": 5
}
